{
 "cells": [
  {
   "cell_type": "markdown",
   "metadata": {},
   "source": [
    "# Intro to Jupyter Notebooks\n",
    "Here I will demonstrate some functionality of jupyter notebooks."
   ]
  },
  {
   "cell_type": "markdown",
   "metadata": {},
   "source": [
    "## Running Python\n",
    "\n",
    "* Create a python cell by pressing `+code`\n",
    "* Always print expressions on last line"
   ]
  },
  {
   "cell_type": "code",
   "execution_count": null,
   "metadata": {},
   "outputs": [],
   "source": [
    "person: str = \"Alyssa\"\n",
    "print(person)"
   ]
  },
  {
   "cell_type": "markdown",
   "metadata": {},
   "source": [
    "## Variable\n",
    "\n",
    "* Variables can be used between cells\n",
    "* `Restart` clears variables/memory\n",
    "* Must run cell where variables is defined before running cell tthat uses variable"
   ]
  },
  {
   "cell_type": "code",
   "execution_count": null,
   "metadata": {},
   "outputs": [],
   "source": [
    "print(f\"Howdy, {person}\")"
   ]
  },
  {
   "cell_type": "markdown",
   "metadata": {},
   "source": [
    "## Making Changes and Re-opening a Notebook\n",
    "\n",
    "0. (If making changes.) Save!\n",
    "1. Restart kernel.\n",
    "2. Clear All output.\n",
    "3. Run All."
   ]
  },
  {
   "cell_type": "markdown",
   "metadata": {},
   "source": [
    "## Importing functions\n",
    "\n",
    "* You can import functions in jupyter notebooks like you do in other python files"
   ]
  },
  {
   "cell_type": "code",
   "execution_count": 1,
   "metadata": {},
   "outputs": [
    {
     "data": {
      "text/plain": [
       "5"
      ]
     },
     "execution_count": 1,
     "metadata": {},
     "output_type": "execute_result"
    }
   ],
   "source": [
    "from my_functions import addition\n",
    "\n",
    "addition(2,3)"
   ]
  },
  {
   "cell_type": "code",
   "execution_count": 1,
   "metadata": {},
   "outputs": [
    {
     "ename": "ModuleNotFoundError",
     "evalue": "No module named 'lessons'",
     "output_type": "error",
     "traceback": [
      "\u001b[0;31m---------------------------------------------------------------------------\u001b[0m",
      "\u001b[0;31mModuleNotFoundError\u001b[0m                       Traceback (most recent call last)",
      "\u001b[1;32m/Users/sunxiangrui/comp110-23f-workspace/lessons/first_notebook.ipynb Cell 9\u001b[0m line \u001b[0;36m1\n\u001b[0;32m----> <a href='vscode-notebook-cell:/Users/sunxiangrui/comp110-23f-workspace/lessons/first_notebook.ipynb#X11sZmlsZQ%3D%3D?line=0'>1</a>\u001b[0m \u001b[39mfrom\u001b[39;00m \u001b[39mlessons\u001b[39;00m\u001b[39m.\u001b[39;00m\u001b[39mmy_functions\u001b[39;00m \u001b[39mimport\u001b[39;00m addition\n\u001b[1;32m      <a href='vscode-notebook-cell:/Users/sunxiangrui/comp110-23f-workspace/lessons/first_notebook.ipynb#X11sZmlsZQ%3D%3D?line=2'>3</a>\u001b[0m addition(\u001b[39m1\u001b[39m,\u001b[39m2\u001b[39m)\n",
      "\u001b[0;31mModuleNotFoundError\u001b[0m: No module named 'lessons'"
     ]
    }
   ],
   "source": [
    "from lessons.my_functions import addition\n",
    "\n",
    "addition(1,2)"
   ]
  }
 ],
 "metadata": {
  "kernelspec": {
   "display_name": "Python 3",
   "language": "python",
   "name": "python3"
  },
  "language_info": {
   "codemirror_mode": {
    "name": "ipython",
    "version": 3
   },
   "file_extension": ".py",
   "mimetype": "text/x-python",
   "name": "python",
   "nbconvert_exporter": "python",
   "pygments_lexer": "ipython3",
   "version": "3.11.1"
  }
 },
 "nbformat": 4,
 "nbformat_minor": 2
}
